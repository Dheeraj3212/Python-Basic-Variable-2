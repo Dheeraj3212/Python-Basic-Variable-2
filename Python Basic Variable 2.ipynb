{
 "cells": [
  {
   "cell_type": "code",
   "execution_count": 1,
   "id": "fc69f498-78a3-41ce-bc8c-658e88a5b2ef",
   "metadata": {},
   "outputs": [],
   "source": [
    "a = 10"
   ]
  },
  {
   "cell_type": "code",
   "execution_count": 2,
   "id": "f42c8b04-d52b-4a16-a801-0ff2e40d7313",
   "metadata": {},
   "outputs": [
    {
     "data": {
      "text/plain": [
       "int"
      ]
     },
     "execution_count": 2,
     "metadata": {},
     "output_type": "execute_result"
    }
   ],
   "source": [
    "type(a)"
   ]
  },
  {
   "cell_type": "code",
   "execution_count": 3,
   "id": "39f987ae-4b1c-41a2-8c1c-866a2ea4338b",
   "metadata": {},
   "outputs": [],
   "source": [
    "b = 5"
   ]
  },
  {
   "cell_type": "code",
   "execution_count": 4,
   "id": "c539aec0-443c-4cb4-a7d1-ab63d6ab16f8",
   "metadata": {},
   "outputs": [
    {
     "data": {
      "text/plain": [
       "int"
      ]
     },
     "execution_count": 4,
     "metadata": {},
     "output_type": "execute_result"
    }
   ],
   "source": [
    "type(b)"
   ]
  },
  {
   "cell_type": "code",
   "execution_count": 5,
   "id": "57a88bbc-b128-4086-8e3a-bb78a53615dc",
   "metadata": {},
   "outputs": [
    {
     "data": {
      "text/plain": [
       "10"
      ]
     },
     "execution_count": 5,
     "metadata": {},
     "output_type": "execute_result"
    }
   ],
   "source": [
    "a "
   ]
  },
  {
   "cell_type": "code",
   "execution_count": 6,
   "id": "a5bcd8ee-874e-47fb-8b5d-93c1b82ade20",
   "metadata": {},
   "outputs": [
    {
     "data": {
      "text/plain": [
       "15"
      ]
     },
     "execution_count": 6,
     "metadata": {},
     "output_type": "execute_result"
    }
   ],
   "source": [
    "a + b"
   ]
  },
  {
   "cell_type": "code",
   "execution_count": 7,
   "id": "4acc530d-21a7-4622-9fdc-f27199b5f247",
   "metadata": {},
   "outputs": [
    {
     "data": {
      "text/plain": [
       "50"
      ]
     },
     "execution_count": 7,
     "metadata": {},
     "output_type": "execute_result"
    }
   ],
   "source": [
    "a*b"
   ]
  },
  {
   "cell_type": "code",
   "execution_count": 8,
   "id": "bffc4c51-c8c0-4b0b-b574-4c9c5e3383c3",
   "metadata": {},
   "outputs": [
    {
     "data": {
      "text/plain": [
       "2.0"
      ]
     },
     "execution_count": 8,
     "metadata": {},
     "output_type": "execute_result"
    }
   ],
   "source": [
    "a/b"
   ]
  },
  {
   "cell_type": "code",
   "execution_count": 9,
   "id": "b7d08122-754e-46dc-83b6-7d42a1a39028",
   "metadata": {},
   "outputs": [
    {
     "data": {
      "text/plain": [
       "float"
      ]
     },
     "execution_count": 9,
     "metadata": {},
     "output_type": "execute_result"
    }
   ],
   "source": [
    "type(a/b)"
   ]
  },
  {
   "cell_type": "code",
   "execution_count": 10,
   "id": "606d7375-85fe-46c1-87fe-74bac754205a",
   "metadata": {},
   "outputs": [],
   "source": [
    "c = 5+6j"
   ]
  },
  {
   "cell_type": "code",
   "execution_count": 11,
   "id": "4192e8e9-9f76-492e-9e58-ef922b04c2d8",
   "metadata": {},
   "outputs": [
    {
     "data": {
      "text/plain": [
       "complex"
      ]
     },
     "execution_count": 11,
     "metadata": {},
     "output_type": "execute_result"
    }
   ],
   "source": [
    "type(c)"
   ]
  },
  {
   "cell_type": "code",
   "execution_count": 12,
   "id": "63a82645-4eee-4e1e-b0af-8947bc0105a7",
   "metadata": {},
   "outputs": [
    {
     "data": {
      "text/plain": [
       "5.0"
      ]
     },
     "execution_count": 12,
     "metadata": {},
     "output_type": "execute_result"
    }
   ],
   "source": [
    "c.real"
   ]
  },
  {
   "cell_type": "code",
   "execution_count": 14,
   "id": "034171a0-266b-4751-9853-3db18235eef7",
   "metadata": {},
   "outputs": [
    {
     "data": {
      "text/plain": [
       "6.0"
      ]
     },
     "execution_count": 14,
     "metadata": {},
     "output_type": "execute_result"
    }
   ],
   "source": [
    "c.imag"
   ]
  },
  {
   "cell_type": "code",
   "execution_count": 15,
   "id": "d6195355-d26a-4beb-85e6-f563dc2fd818",
   "metadata": {},
   "outputs": [],
   "source": [
    "b = True"
   ]
  },
  {
   "cell_type": "code",
   "execution_count": 16,
   "id": "c13d07ce-5217-4270-bf6c-c8640d4f572e",
   "metadata": {},
   "outputs": [
    {
     "data": {
      "text/plain": [
       "bool"
      ]
     },
     "execution_count": 16,
     "metadata": {},
     "output_type": "execute_result"
    }
   ],
   "source": [
    "type(b)"
   ]
  },
  {
   "cell_type": "code",
   "execution_count": 17,
   "id": "19b9ca6c-fca5-437b-8dd5-ac899b663210",
   "metadata": {},
   "outputs": [],
   "source": [
    "x = False"
   ]
  },
  {
   "cell_type": "code",
   "execution_count": 18,
   "id": "e696c9c5-4a4f-4e88-a984-18c170d3b341",
   "metadata": {},
   "outputs": [
    {
     "data": {
      "text/plain": [
       "1"
      ]
     },
     "execution_count": 18,
     "metadata": {},
     "output_type": "execute_result"
    }
   ],
   "source": [
    "b - x"
   ]
  },
  {
   "cell_type": "code",
   "execution_count": 19,
   "id": "00351bae-b910-46ea-a754-46ce1d1ea6b0",
   "metadata": {},
   "outputs": [
    {
     "data": {
      "text/plain": [
       "0"
      ]
     },
     "execution_count": 19,
     "metadata": {},
     "output_type": "execute_result"
    }
   ],
   "source": [
    "b*x"
   ]
  },
  {
   "cell_type": "code",
   "execution_count": 20,
   "id": "3aad5eb3-17b3-4a5f-a471-57142f685143",
   "metadata": {},
   "outputs": [
    {
     "data": {
      "text/plain": [
       "0.0"
      ]
     },
     "execution_count": 20,
     "metadata": {},
     "output_type": "execute_result"
    }
   ],
   "source": [
    "x/b"
   ]
  },
  {
   "cell_type": "code",
   "execution_count": 22,
   "id": "38eb6387-eda9-4e90-a88b-a9735808240c",
   "metadata": {},
   "outputs": [
    {
     "data": {
      "text/plain": [
       "int"
      ]
     },
     "execution_count": 22,
     "metadata": {},
     "output_type": "execute_result"
    }
   ],
   "source": [
    "type(b*x)"
   ]
  },
  {
   "cell_type": "code",
   "execution_count": 23,
   "id": "c3a9b848-2585-4ece-92ab-10742de38980",
   "metadata": {},
   "outputs": [],
   "source": [
    "a1 , a2 = 34 , 35"
   ]
  },
  {
   "cell_type": "code",
   "execution_count": 24,
   "id": "f9896b33-6925-4efc-b5fd-dbe07765fbd0",
   "metadata": {},
   "outputs": [
    {
     "data": {
      "text/plain": [
       "1190"
      ]
     },
     "execution_count": 24,
     "metadata": {},
     "output_type": "execute_result"
    }
   ],
   "source": [
    "a1*a2"
   ]
  },
  {
   "cell_type": "code",
   "execution_count": 26,
   "id": "60550b67-7e64-4ced-8503-106b9e8ff7f5",
   "metadata": {},
   "outputs": [
    {
     "data": {
      "text/plain": [
       "69"
      ]
     },
     "execution_count": 26,
     "metadata": {},
     "output_type": "execute_result"
    }
   ],
   "source": [
    "a1 + a2"
   ]
  },
  {
   "cell_type": "code",
   "execution_count": 27,
   "id": "cad3d1ed-dd54-45ec-9c89-5424e9b1d84f",
   "metadata": {},
   "outputs": [],
   "source": [
    "a , b , c , d = 30 , \"Sudh\" , 34.40 , True"
   ]
  },
  {
   "cell_type": "code",
   "execution_count": 28,
   "id": "6daee6fe-ef2a-4e8a-ae32-551d1e67c4c3",
   "metadata": {},
   "outputs": [
    {
     "data": {
      "text/plain": [
       "30"
      ]
     },
     "execution_count": 28,
     "metadata": {},
     "output_type": "execute_result"
    }
   ],
   "source": [
    "a"
   ]
  },
  {
   "cell_type": "code",
   "execution_count": 29,
   "id": "1380f73b-a7cd-4c7b-8434-5008e490a848",
   "metadata": {},
   "outputs": [
    {
     "data": {
      "text/plain": [
       "(30, 'Sudh', 34.4, True)"
      ]
     },
     "execution_count": 29,
     "metadata": {},
     "output_type": "execute_result"
    }
   ],
   "source": [
    "a , b , c , d"
   ]
  },
  {
   "cell_type": "code",
   "execution_count": 31,
   "id": "84394db6-cc7e-41d3-85f0-f8da2a97c7b4",
   "metadata": {},
   "outputs": [
    {
     "data": {
      "text/plain": [
       "str"
      ]
     },
     "execution_count": 31,
     "metadata": {},
     "output_type": "execute_result"
    }
   ],
   "source": [
    "type(b)"
   ]
  },
  {
   "cell_type": "code",
   "execution_count": 36,
   "id": "359e764e-8ec4-49a0-a501-7e5884638491",
   "metadata": {},
   "outputs": [],
   "source": [
    "_a = 5"
   ]
  },
  {
   "cell_type": "code",
   "execution_count": 37,
   "id": "5afdc396-a1c6-4acc-9953-6e0c561ef4df",
   "metadata": {},
   "outputs": [
    {
     "data": {
      "text/plain": [
       "5"
      ]
     },
     "execution_count": 37,
     "metadata": {},
     "output_type": "execute_result"
    }
   ],
   "source": [
    "_a"
   ]
  },
  {
   "cell_type": "code",
   "execution_count": 38,
   "id": "f5f22025-b704-471f-948a-fff2180818a2",
   "metadata": {},
   "outputs": [
    {
     "data": {
      "text/plain": [
       "int"
      ]
     },
     "execution_count": 38,
     "metadata": {},
     "output_type": "execute_result"
    }
   ],
   "source": [
    "type(_a)"
   ]
  },
  {
   "cell_type": "code",
   "execution_count": 42,
   "id": "7b0a2807-b3bb-45d8-94e5-c931a644293e",
   "metadata": {},
   "outputs": [],
   "source": [
    "#my name is dhruv"
   ]
  },
  {
   "cell_type": "code",
   "execution_count": 44,
   "id": "abd30ceb-6ef6-45ed-b83e-8a4841fefce3",
   "metadata": {},
   "outputs": [
    {
     "data": {
      "text/plain": [
       "'this is my first python class\\ni am learning enlish also\\nand i am from non technical background'"
      ]
     },
     "execution_count": 44,
     "metadata": {},
     "output_type": "execute_result"
    }
   ],
   "source": [
    "'''this is my first python class\n",
    "i am learning enlish also\n",
    "and i am from non technical background'''"
   ]
  },
  {
   "cell_type": "code",
   "execution_count": 47,
   "id": "e7097884-e8cd-4fed-a049-8d6c83f177f9",
   "metadata": {},
   "outputs": [
    {
     "data": {
      "text/plain": [
       "'dhruvgoswami'"
      ]
     },
     "execution_count": 47,
     "metadata": {},
     "output_type": "execute_result"
    }
   ],
   "source": [
    "\"dhruv\" + \"goswami\""
   ]
  },
  {
   "cell_type": "code",
   "execution_count": 49,
   "id": "01045b8c-99c4-41be-9d64-95123f5730bf",
   "metadata": {},
   "outputs": [
    {
     "data": {
      "text/plain": [
       "'dhruv +     goswami'"
      ]
     },
     "execution_count": 49,
     "metadata": {},
     "output_type": "execute_result"
    }
   ],
   "source": [
    "\"dhruv +     goswami\""
   ]
  },
  {
   "cell_type": "code",
   "execution_count": 52,
   "id": "7b09c41f-1d7d-4643-ba1f-9b6de1fa9a1a",
   "metadata": {},
   "outputs": [
    {
     "data": {
      "text/plain": [
       "'dhruv   10'"
      ]
     },
     "execution_count": 52,
     "metadata": {},
     "output_type": "execute_result"
    }
   ],
   "source": [
    "\"dhruv\" + \"   \" + str(10)"
   ]
  },
  {
   "cell_type": "code",
   "execution_count": 53,
   "id": "978a1f9a-b5fc-419a-8156-118397804f47",
   "metadata": {},
   "outputs": [],
   "source": [
    "int = 12"
   ]
  },
  {
   "cell_type": "code",
   "execution_count": 54,
   "id": "afea14a4-3a2e-4c91-9366-3afbf397d18c",
   "metadata": {},
   "outputs": [
    {
     "data": {
      "text/plain": [
       "12"
      ]
     },
     "execution_count": 54,
     "metadata": {},
     "output_type": "execute_result"
    }
   ],
   "source": [
    "int"
   ]
  },
  {
   "cell_type": "code",
   "execution_count": 55,
   "id": "21114cc9-8a04-40be-9935-cc12b5720fed",
   "metadata": {},
   "outputs": [
    {
     "data": {
      "text/plain": [
       "int"
      ]
     },
     "execution_count": 55,
     "metadata": {},
     "output_type": "execute_result"
    }
   ],
   "source": [
    "type(int)"
   ]
  },
  {
   "cell_type": "code",
   "execution_count": 56,
   "id": "5605f03b-83f1-4eff-a183-f8135a7d743a",
   "metadata": {},
   "outputs": [],
   "source": [
    "a = 10"
   ]
  },
  {
   "cell_type": "code",
   "execution_count": 60,
   "id": "4b0e464b-22a1-4604-b383-7e49e8b35ca1",
   "metadata": {},
   "outputs": [],
   "source": [
    "b = str(a)"
   ]
  },
  {
   "cell_type": "code",
   "execution_count": 61,
   "id": "e9eb8df1-525a-415e-93c5-8cf0c0a81c27",
   "metadata": {},
   "outputs": [
    {
     "data": {
      "text/plain": [
       "'10'"
      ]
     },
     "execution_count": 61,
     "metadata": {},
     "output_type": "execute_result"
    }
   ],
   "source": [
    "b"
   ]
  },
  {
   "cell_type": "code",
   "execution_count": 7,
   "id": "b4e77c20-29c3-4b1f-aded-f0e3540693e4",
   "metadata": {},
   "outputs": [],
   "source": [
    "p = \"mn\""
   ]
  },
  {
   "cell_type": "code",
   "execution_count": 10,
   "id": "d5cf6a22-0f2e-4bc1-809d-4c7b2be1472d",
   "metadata": {},
   "outputs": [
    {
     "name": "stdin",
     "output_type": "stream",
     "text": [
      " \"tttt\"\n"
     ]
    }
   ],
   "source": [
    "q = input()"
   ]
  },
  {
   "cell_type": "code",
   "execution_count": 11,
   "id": "0fdfa7c3-2bab-4841-ba19-dd3c438c1392",
   "metadata": {},
   "outputs": [
    {
     "data": {
      "text/plain": [
       "'mn\"tttt\"'"
      ]
     },
     "execution_count": 11,
     "metadata": {},
     "output_type": "execute_result"
    }
   ],
   "source": [
    "p + q"
   ]
  },
  {
   "cell_type": "code",
   "execution_count": 12,
   "id": "9f06d549-1ff5-4f2c-aa24-471c33c3ead8",
   "metadata": {},
   "outputs": [
    {
     "name": "stdin",
     "output_type": "stream",
     "text": [
      " tdhjgh565\n"
     ]
    }
   ],
   "source": [
    "q = input()"
   ]
  },
  {
   "cell_type": "code",
   "execution_count": 13,
   "id": "2355f3fc-306b-4849-a5c8-49d0a38a6da8",
   "metadata": {},
   "outputs": [
    {
     "data": {
      "text/plain": [
       "'mntdhjgh565'"
      ]
     },
     "execution_count": 13,
     "metadata": {},
     "output_type": "execute_result"
    }
   ],
   "source": [
    "p + q"
   ]
  },
  {
   "cell_type": "code",
   "execution_count": 17,
   "id": "a31bcfa0-5476-4f8a-8432-e890a45aa843",
   "metadata": {},
   "outputs": [],
   "source": [
    "s = \"hhh\""
   ]
  },
  {
   "cell_type": "code",
   "execution_count": 15,
   "id": "3672b433-2848-46d7-9781-6f1cbac1bba2",
   "metadata": {},
   "outputs": [
    {
     "name": "stdin",
     "output_type": "stream",
     "text": [
      " ghf6\n"
     ]
    }
   ],
   "source": [
    "t = input()"
   ]
  },
  {
   "cell_type": "code",
   "execution_count": 18,
   "id": "5bbc2a0c-7a0c-48b4-980b-04240f64c258",
   "metadata": {},
   "outputs": [
    {
     "data": {
      "text/plain": [
       "'hhhghf6'"
      ]
     },
     "execution_count": 18,
     "metadata": {},
     "output_type": "execute_result"
    }
   ],
   "source": [
    "s + t"
   ]
  },
  {
   "cell_type": "code",
   "execution_count": 19,
   "id": "cd10a680-2816-4a1e-99c4-b1b7b50c2197",
   "metadata": {},
   "outputs": [],
   "source": [
    "a = \"sudh\""
   ]
  },
  {
   "cell_type": "code",
   "execution_count": 26,
   "id": "ce2054e9-37eb-4c84-997e-970b9874e33e",
   "metadata": {},
   "outputs": [
    {
     "name": "stdin",
     "output_type": "stream",
     "text": [
      " kumar\n"
     ]
    }
   ],
   "source": [
    "b = input()"
   ]
  },
  {
   "cell_type": "code",
   "execution_count": 27,
   "id": "e3280a48-b397-4b83-8f62-b8b947061305",
   "metadata": {},
   "outputs": [
    {
     "data": {
      "text/plain": [
       "'sudhkumar'"
      ]
     },
     "execution_count": 27,
     "metadata": {},
     "output_type": "execute_result"
    }
   ],
   "source": [
    "a + b"
   ]
  },
  {
   "cell_type": "code",
   "execution_count": 32,
   "id": "e4843bb5-10da-41c6-af51-46af8704ce35",
   "metadata": {},
   "outputs": [
    {
     "name": "stdin",
     "output_type": "stream",
     "text": [
      " 65\n"
     ]
    }
   ],
   "source": [
    "b = int(input())"
   ]
  },
  {
   "cell_type": "code",
   "execution_count": 30,
   "id": "f92d9bbd-66c7-4954-ad58-2a8df0ac5166",
   "metadata": {},
   "outputs": [],
   "source": [
    "a = 66"
   ]
  },
  {
   "cell_type": "code",
   "execution_count": 33,
   "id": "21c21200-4d8f-415d-8ef5-54011f98b2f9",
   "metadata": {},
   "outputs": [
    {
     "data": {
      "text/plain": [
       "131"
      ]
     },
     "execution_count": 33,
     "metadata": {},
     "output_type": "execute_result"
    }
   ],
   "source": [
    "a + b"
   ]
  },
  {
   "cell_type": "code",
   "execution_count": 35,
   "id": "37bd1e5b-104a-4f88-b042-2035afd398a9",
   "metadata": {},
   "outputs": [],
   "source": [
    "s = \"dhruv\""
   ]
  },
  {
   "cell_type": "code",
   "execution_count": 36,
   "id": "0153be61-530e-4785-b5ec-466aeb96dd13",
   "metadata": {},
   "outputs": [
    {
     "name": "stdin",
     "output_type": "stream",
     "text": [
      " goswami\n"
     ]
    }
   ],
   "source": [
    "t = str(input())"
   ]
  },
  {
   "cell_type": "code",
   "execution_count": 37,
   "id": "23667008-090e-4be7-b390-8b2222de8b50",
   "metadata": {},
   "outputs": [
    {
     "data": {
      "text/plain": [
       "'dhruvgoswami'"
      ]
     },
     "execution_count": 37,
     "metadata": {},
     "output_type": "execute_result"
    }
   ],
   "source": [
    "s + t"
   ]
  },
  {
   "cell_type": "code",
   "execution_count": 38,
   "id": "6361255a-716e-4ecc-9985-4c79daf32ff8",
   "metadata": {},
   "outputs": [],
   "source": [
    "m = True"
   ]
  },
  {
   "cell_type": "code",
   "execution_count": 39,
   "id": "05750b4c-a65d-41fd-9c4b-53ac80950166",
   "metadata": {},
   "outputs": [
    {
     "name": "stdin",
     "output_type": "stream",
     "text": [
      " False\n"
     ]
    }
   ],
   "source": [
    "n = bool(input())"
   ]
  },
  {
   "cell_type": "code",
   "execution_count": 41,
   "id": "f3ca2b08-fe76-45dc-a7a6-6102e6e49ad1",
   "metadata": {},
   "outputs": [
    {
     "data": {
      "text/plain": [
       "2"
      ]
     },
     "execution_count": 41,
     "metadata": {},
     "output_type": "execute_result"
    }
   ],
   "source": [
    "m + n"
   ]
  },
  {
   "cell_type": "code",
   "execution_count": 50,
   "id": "7a7941b0-2328-4ace-9186-f77f7e0ac0d5",
   "metadata": {},
   "outputs": [],
   "source": [
    "a = \"55\""
   ]
  },
  {
   "cell_type": "code",
   "execution_count": 52,
   "id": "d2715732-1a1d-401d-b58a-3efdf80c0d76",
   "metadata": {},
   "outputs": [
    {
     "name": "stdin",
     "output_type": "stream",
     "text": [
      " \"66\"\n"
     ]
    }
   ],
   "source": [
    "b = input()"
   ]
  },
  {
   "cell_type": "code",
   "execution_count": 53,
   "id": "7e1e6383-3c1f-42ea-a37b-e22d7ba5aad3",
   "metadata": {},
   "outputs": [
    {
     "data": {
      "text/plain": [
       "'55\"66\"'"
      ]
     },
     "execution_count": 53,
     "metadata": {},
     "output_type": "execute_result"
    }
   ],
   "source": [
    " a + b"
   ]
  },
  {
   "cell_type": "code",
   "execution_count": 54,
   "id": "208c360f-f37d-40b0-b746-d6ba6f8c7fc7",
   "metadata": {},
   "outputs": [],
   "source": [
    "a = \"Sudhanshu\""
   ]
  },
  {
   "cell_type": "code",
   "execution_count": 55,
   "id": "28442b4c-63b6-4c88-a80a-ef35c7a910b2",
   "metadata": {},
   "outputs": [
    {
     "data": {
      "text/plain": [
       "'S'"
      ]
     },
     "execution_count": 55,
     "metadata": {},
     "output_type": "execute_result"
    }
   ],
   "source": [
    "a[0]"
   ]
  },
  {
   "cell_type": "code",
   "execution_count": 56,
   "id": "06fac998-9e9d-466e-b273-bd80c747f8f7",
   "metadata": {},
   "outputs": [
    {
     "data": {
      "text/plain": [
       "'Sudhan'"
      ]
     },
     "execution_count": 56,
     "metadata": {},
     "output_type": "execute_result"
    }
   ],
   "source": [
    "a[0:6]"
   ]
  },
  {
   "cell_type": "code",
   "execution_count": 57,
   "id": "b3b9343c-b61f-4a77-8481-4745574769e2",
   "metadata": {},
   "outputs": [
    {
     "data": {
      "text/plain": [
       "'Sdas'"
      ]
     },
     "execution_count": 57,
     "metadata": {},
     "output_type": "execute_result"
    }
   ],
   "source": [
    "a[0:8:2]"
   ]
  },
  {
   "cell_type": "code",
   "execution_count": 60,
   "id": "504f571a-b6d5-45e4-8aa1-541c46684256",
   "metadata": {},
   "outputs": [
    {
     "data": {
      "text/plain": [
       "'u'"
      ]
     },
     "execution_count": 60,
     "metadata": {},
     "output_type": "execute_result"
    }
   ],
   "source": [
    "a[-1]"
   ]
  },
  {
   "cell_type": "code",
   "execution_count": 69,
   "id": "ce8f5772-87ab-49da-a7cd-2a8ec10b2b4f",
   "metadata": {},
   "outputs": [
    {
     "data": {
      "text/plain": [
       "'uhs'"
      ]
     },
     "execution_count": 69,
     "metadata": {},
     "output_type": "execute_result"
    }
   ],
   "source": [
    "a[-1:-4:-1]"
   ]
  },
  {
   "cell_type": "code",
   "execution_count": 66,
   "id": "5b1ce717-5461-4068-b486-9e95588a5e71",
   "metadata": {},
   "outputs": [
    {
     "data": {
      "text/plain": [
       "'usa'"
      ]
     },
     "execution_count": 66,
     "metadata": {},
     "output_type": "execute_result"
    }
   ],
   "source": [
    "a[-1:-6:-2]"
   ]
  },
  {
   "cell_type": "code",
   "execution_count": 70,
   "id": "48b2cbd0-5872-4a6e-b720-e5f827f7221d",
   "metadata": {},
   "outputs": [],
   "source": [
    "s = \"pwskiils\""
   ]
  },
  {
   "cell_type": "code",
   "execution_count": null,
   "id": "d57dfe21-2ec2-4433-b9a8-bfb07332cbc2",
   "metadata": {},
   "outputs": [],
   "source": [
    "s[0"
   ]
  }
 ],
 "metadata": {
  "kernelspec": {
   "display_name": "Python 3 (ipykernel)",
   "language": "python",
   "name": "python3"
  },
  "language_info": {
   "codemirror_mode": {
    "name": "ipython",
    "version": 3
   },
   "file_extension": ".py",
   "mimetype": "text/x-python",
   "name": "python",
   "nbconvert_exporter": "python",
   "pygments_lexer": "ipython3",
   "version": "3.10.8"
  }
 },
 "nbformat": 4,
 "nbformat_minor": 5
}
